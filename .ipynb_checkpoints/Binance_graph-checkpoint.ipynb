{
 "cells": [
  {
   "cell_type": "code",
   "execution_count": null,
   "metadata": {},
   "outputs": [],
   "source": [
    "!pip install python-binance"
   ]
  },
  {
   "cell_type": "code",
   "execution_count": 2,
   "metadata": {},
   "outputs": [],
   "source": [
    "import numpy as np\n",
    "import pandas as pd\n",
    "from binance.client import Client\n",
    "import json\n",
    "import matplotlib.pyplot as plt"
   ]
  },
  {
   "cell_type": "code",
   "execution_count": 6,
   "metadata": {},
   "outputs": [],
   "source": [
    "with open('/home/kerch/binance/secret.txt') as f:\n",
    "    secret = json.loads(f.read())\n",
    "\n",
    "access_token = secret['api_key']\n",
    "access_token_secret = secret['api_secret']\n",
    "client = Client(access_token, access_token_secret)\n"
   ]
  },
  {
   "cell_type": "code",
   "execution_count": 11,
   "metadata": {},
   "outputs": [
    {
     "name": "stdout",
     "output_type": "stream",
     "text": [
      "Please enter starting balance in BTC \n",
      "1\n",
      "Please enter take_profit in %\n",
      "0.4\n",
      "Please enter stop_loss in %\n",
      "1\n",
      "Please enter a pair of coins, example(WAVESBTC) \n",
      "WAVESBTC\n"
     ]
    },
    {
     "data": {
      "image/png": "[encoded data removed]",
      "text/plain": [
       "<Figure size 432x288 with 1 Axes>"
      ]
     },
     "metadata": {
      "needs_background": "light"
     },
     "output_type": "display_data"
    },
    {
     "name": "stdout",
     "output_type": "stream",
     "text": [
      "Total balance: 2.2931636776436184\n"
     ]
    }
   ],
   "source": [
    "print('Please enter starting balance in BTC ')\n",
    "total = input()\n",
    "\n",
    "print('Please enter take_profit in %')\n",
    "take_profit = float(input())\n",
    "take_profit = take_profit/100\n",
    "print('Please enter stop_loss in %')\n",
    "stop_loss = float(input())\n",
    "print('Please enter a pair of coins, example(WAVESBTC) ')\n",
    "pair_of_coins = input()\n",
    "\n",
    "klines = client.get_historical_klines(pair_of_coins, Client.KLINE_INTERVAL_5MINUTE, \"20 Nov, 2018\", \"20 Dec, 2018\")\n",
    "df = pd.DataFrame(klines)\n",
    "df = df.iloc[:,0:6]\n",
    "df.columns = ['id','open', 'high', 'low', 'close', 'total_amount']\n",
    "df.loc[:,'total_amount'] = 1\n",
    "df[['open', 'high', 'low', 'close']] = df[['open', 'high', 'low', 'close']].apply(pd.to_numeric)\n",
    "df[\"Regime\"] = np.where(df['high'] > df['open']*(1+take_profit) , 1, 0)\n",
    "df[\"Regime\"] = np.where(df['open']*((100-stop_loss)/100) > df['low'], -1, df[\"Regime\"])\n",
    "\n",
    "for i in range(1,len(df)):\n",
    "    if df.loc[i,'Regime'] ==1 :\n",
    "        df.loc[i,'total_amount'] = df.loc[i-1,'total_amount']*(1+take_profit)\n",
    "    \n",
    "    elif df.loc[i,'Regime'] ==0:\n",
    "        df.loc[i,'total_amount'] = df.loc[i-1,'total_amount']\n",
    "    \n",
    "    elif df.loc[i,'Regime'] == -1:\n",
    "        df.loc[i,'total_amount'] = df.loc[i-1,'total_amount']*((100-stop_loss)/100)\n",
    "        \n",
    "\n",
    "fig = plt.figure()\n",
    "plt.plot(df['total_amount'])\n",
    "plt.title(\"Balance chart, BTC\")\n",
    "plt.legend()\n",
    "plt.grid(True)\n",
    "plt.show()\n",
    "print('Total balance:',df['total_amount'].values[-1])"
   ]
  }
 ],
 "metadata": {
  "kernelspec": {
   "display_name": "Python 3",
   "language": "python",
   "name": "python3"
  },
  "language_info": {
   "codemirror_mode": {
    "name": "ipython",
    "version": 3
   },
   "file_extension": ".py",
   "mimetype": "text/x-python",
   "name": "python",
   "nbconvert_exporter": "python",
   "pygments_lexer": "ipython3",
   "version": "3.6.6"
  }
 },
 "nbformat": 4,
 "nbformat_minor": 2
}
